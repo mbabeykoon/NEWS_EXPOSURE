{
 "cells": [
  {
   "cell_type": "code",
   "execution_count": 1,
   "metadata": {},
   "outputs": [],
   "source": [
    "import pandas as pd\n",
    "import geopandas as gpd\n",
    "import warnings\n",
    "\n",
    "# Suppress all warnings\n",
    "warnings.filterwarnings('ignore')"
   ]
  },
  {
   "cell_type": "code",
   "execution_count": 2,
   "metadata": {},
   "outputs": [],
   "source": [
    "df_tv = pd.read_csv('../artifacts/data/cleaned/television.csv', on_bad_lines='skip')\n",
    "df_radio = pd.read_csv('../artifacts/data/cleaned/radio.csv', on_bad_lines='skip')\n",
    "df_newspaper = pd.read_csv('../artifacts/data/cleaned/newspaper.csv', on_bad_lines='skip')\n",
    "df_population = pd.read_csv('../artifacts/data/cleaned/population_groups.csv')\n",
    "df_newsfacts = pd.read_csv('../artifacts/data/cleaned/pew_newsfacts.csv', on_bad_lines='skip')\n",
    "df_county = pd.read_csv('../artifacts/shapefiles/county.csv')\n",
    "df_shapefile_county = gpd.read_file('../artifacts/shapefiles/cb_2018_us_county_500k.shp')"
   ]
  },
  {
   "cell_type": "code",
   "execution_count": 3,
   "metadata": {},
   "outputs": [],
   "source": [
    "def process_media_sales_volume(df_media):\n",
    "    \"\"\"\n",
    "    Converts 'sales_volume' to numeric, removes entries with missing 'sales_volume',\n",
    "    and filters entries with 'sales_volume' below a specified threshold.\n",
    "\n",
    "    Parameters:\n",
    "        df_media (pd.DataFrame): DataFrame containing media data with a 'sales_volume' column.\n",
    "\n",
    "    Returns:\n",
    "        pd.DataFrame: DataFrame with processed sales volume data.\n",
    "    \"\"\"\n",
    "    def convert_sales_volume_to_number(s):\n",
    "        \"\"\"\n",
    "        Convert sales volume string to a number, handling ranges, specific markers, \n",
    "        and non-numeric characters.\n",
    "        \"\"\"\n",
    "        try:\n",
    "            if isinstance(s, str):\n",
    "                s = s.replace('$', '').replace(',', '').replace('_', '').strip()\n",
    "                # Handle cases like \"Under $500,000\" by taking the maximum or minimum value directly\n",
    "                if 'under' in s.lower():\n",
    "                    return float(s.split(' ')[1])\n",
    "                elif 'over' in s.lower():\n",
    "                    return float(s.split(' ')[1])  # Modify based on how you want to handle 'over' cases\n",
    "                # Handle ranges by returning the lower bound\n",
    "                return float(s.split(' ')[0].split('to')[0]) if 'to' in s else float(s)\n",
    "        except ValueError:\n",
    "            return None  # Return None for unconvertible values\n",
    "\n",
    "    print(\"Initial count:\", len(df_media))\n",
    "\n",
    "    # Convert 'sales_volume' to numeric\n",
    "    df_media['sales_volume'] = df_media['sales_volume'].apply(convert_sales_volume_to_number)\n",
    "\n",
    "    # Drop rows where 'sales_volume' is NaN\n",
    "    df_media_filtered = df_media.dropna(subset=['sales_volume'])\n",
    "\n",
    "    # Filter rows where 'sales_volume' is below 1,000,000\n",
    "    df_media_filtered = df_media_filtered[df_media_filtered['sales_volume'] < 1000000]\n",
    "\n",
    "    print(\"Filtered count:\", len(df_media_filtered))\n",
    "    return df_media_filtered\n",
    "\n",
    "\n",
    "\n"
   ]
  },
  {
   "cell_type": "code",
   "execution_count": 4,
   "metadata": {},
   "outputs": [
    {
     "name": "stdout",
     "output_type": "stream",
     "text": [
      "Initial count: 11487\n",
      "Filtered count: 7246\n",
      "Initial count: 41549\n",
      "Filtered count: 32113\n",
      "Initial count: 44117\n",
      "Filtered count: 38822\n"
     ]
    }
   ],
   "source": [
    "df_tv_filtered = process_media_sales_volume(df_tv)\n",
    "df_newspaper_filtered = process_media_sales_volume(df_newspaper)\n",
    "df_radio_filtered = process_media_sales_volume(df_radio)"
   ]
  }
 ],
 "metadata": {
  "kernelspec": {
   "display_name": "Python 3",
   "language": "python",
   "name": "python3"
  },
  "language_info": {
   "codemirror_mode": {
    "name": "ipython",
    "version": 3
   },
   "file_extension": ".py",
   "mimetype": "text/x-python",
   "name": "python",
   "nbconvert_exporter": "python",
   "pygments_lexer": "ipython3",
   "version": "3.10.14"
  }
 },
 "nbformat": 4,
 "nbformat_minor": 2
}
