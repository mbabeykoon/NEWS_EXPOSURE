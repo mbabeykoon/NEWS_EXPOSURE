{
 "cells": [
  {
   "cell_type": "code",
   "execution_count": 1,
   "metadata": {},
   "outputs": [],
   "source": [
    "import pandas as pd\n",
    "import geopandas as gpd\n",
    "import warnings\n",
    "\n",
    "# Suppress all warnings\n",
    "warnings.filterwarnings('ignore')"
   ]
  },
  {
   "cell_type": "code",
   "execution_count": 2,
   "metadata": {},
   "outputs": [],
   "source": [
    "df_tv = pd.read_csv('../artifacts/data/cleaned/television.csv', on_bad_lines='skip')\n",
    "df_radio = pd.read_csv('../artifacts/data/cleaned/radio.csv', on_bad_lines='skip')\n",
    "df_newspaper = pd.read_csv('../artifacts/data/cleaned/newspaper.csv', on_bad_lines='skip')\n",
    "df_population = pd.read_csv('../artifacts/data/cleaned/population_groups.csv')\n",
    "df_newsfacts = pd.read_csv('../artifacts/data/cleaned/pew_newsfacts.csv', on_bad_lines='skip')\n",
    "df_county = pd.read_csv('../artifacts/shapefiles/county.csv')\n",
    "df_shapefile_county = gpd.read_file('../artifacts/shapefiles/cb_2018_us_county_500k.shp')"
   ]
  },
  {
   "cell_type": "code",
   "execution_count": 3,
   "metadata": {},
   "outputs": [],
   "source": [
    "def process_media_sales_volume(df_media):\n",
    "    \"\"\"\n",
    "    Converts 'sales_volume' to numeric, removes entries with missing 'sales_volume',\n",
    "    and filters entries with 'sales_volume' below a specified threshold.\n",
    "\n",
    "    Parameters:\n",
    "        df_media (pd.DataFrame): DataFrame containing media data with a 'sales_volume' column.\n",
    "\n",
    "    Returns:\n",
    "        pd.DataFrame: DataFrame with processed sales volume data.\n",
    "    \"\"\"\n",
    "    def convert_sales_volume_to_number(s):\n",
    "        \"\"\"\n",
    "        Convert sales volume string to a number, handling ranges, specific markers, \n",
    "        and non-numeric characters.\n",
    "        \"\"\"\n",
    "        try:\n",
    "            if isinstance(s, str):\n",
    "                s = s.replace('$', '').replace(',', '').replace('_', '').strip()\n",
    "                # Handle cases like \"Under $500,000\" by taking the maximum or minimum value directly\n",
    "                if 'under' in s.lower():\n",
    "                    return float(s.split(' ')[1])\n",
    "                elif 'over' in s.lower():\n",
    "                    return float(s.split(' ')[1])  # Modify based on how you want to handle 'over' cases\n",
    "                # Handle ranges by returning the lower bound\n",
    "                return float(s.split(' ')[0].split('to')[0]) if 'to' in s else float(s)\n",
    "        except ValueError:\n",
    "            return None  # Return None for unconvertible values\n",
    "\n",
    "    print(\"Initial count:\", len(df_media))\n",
    "\n",
    "    # Convert 'sales_volume' to numeric\n",
    "    df_media['sales_volume'] = df_media['sales_volume'].apply(convert_sales_volume_to_number)\n",
    "\n",
    "    # Drop rows where 'sales_volume' is NaN\n",
    "    df_media_filtered = df_media.dropna(subset=['sales_volume'])\n",
    "\n",
    "    # Filter rows where 'sales_volume' is below 1,000,000\n",
    "    df_media_filtered = df_media_filtered[df_media_filtered['sales_volume'] < 1000000]\n",
    "\n",
    "    print(\"Filtered count:\", len(df_media_filtered))\n",
    "    return df_media_filtered\n",
    "\n",
    "\n",
    "\n"
   ]
  },
  {
   "cell_type": "code",
   "execution_count": 4,
   "metadata": {},
   "outputs": [
    {
     "name": "stdout",
     "output_type": "stream",
     "text": [
      "Initial count: 11487\n",
      "Filtered count: 7246\n",
      "Initial count: 41549\n",
      "Filtered count: 32113\n",
      "Initial count: 44117\n",
      "Filtered count: 38822\n"
     ]
    }
   ],
   "source": [
    "df_tv_filtered = process_media_sales_volume(df_tv)\n",
    "df_newspaper_filtered = process_media_sales_volume(df_newspaper)\n",
    "df_radio_filtered = process_media_sales_volume(df_radio)"
   ]
  },
  {
   "cell_type": "code",
   "execution_count": 12,
   "metadata": {},
   "outputs": [],
   "source": [
    "def process_and_save_media_data(df_media, media_type):\n",
    "    \"\"\"\n",
    "    Processes media DataFrame by counting occurrences for each state and county,\n",
    "    then saves the results to a CSV file.\n",
    "\n",
    "    Parameters:\n",
    "        df_media (pd.DataFrame): DataFrame containing media data.\n",
    "        media_type (str): String to identify the type of media data (e.g., 'tv', 'radio').\n",
    "\n",
    "    Returns:\n",
    "        None: The function saves the output directly to a CSV file.\n",
    "    \"\"\"\n",
    "    # Group by 'Geography' and count occurrences\n",
    "    county_counts = df_media.groupby(['Geography']).size().reset_index(name=f'count_{media_type}')\n",
    "\n",
    "    # Construct the file path\n",
    "    file_path = f'../artifacts/data/cleaned/{media_type}_county_counts.csv'\n",
    "\n",
    "    # Save to CSV\n",
    "    county_counts.to_csv(file_path, index=False)\n",
    "    \n",
    "    print(f\"Data saved to {file_path}\")\n"
   ]
  },
  {
   "cell_type": "code",
   "execution_count": 13,
   "metadata": {},
   "outputs": [
    {
     "name": "stdout",
     "output_type": "stream",
     "text": [
      "Data saved to ../artifacts/data/cleaned/newspaper_county_counts.csv\n",
      "Data saved to ../artifacts/data/cleaned/tv_county_counts.csv\n",
      "Data saved to ../artifacts/data/cleaned/radio_county_counts.csv\n"
     ]
    }
   ],
   "source": [
    "process_and_save_media_data(df_newspaper, 'newspaper')\n",
    "process_and_save_media_data(df_tv, 'tv')\n",
    "process_and_save_media_data(df_radio, 'radio')"
   ]
  },
  {
   "cell_type": "code",
   "execution_count": 16,
   "metadata": {},
   "outputs": [],
   "source": [
    "df_tv_county_counts = pd.read_csv('../artifacts/data/cleaned/tv_county_counts.csv', on_bad_lines='skip')\n",
    "df_radio_county_counts = pd.read_csv('../artifacts/data/cleaned/radio_county_counts.csv', on_bad_lines='skip')\n",
    "df_newspaper_county_counts = pd.read_csv('../artifacts/data/cleaned/newspaper_county_counts.csv', on_bad_lines='skip')"
   ]
  },
  {
   "cell_type": "code",
   "execution_count": 20,
   "metadata": {},
   "outputs": [],
   "source": [
    "import pandas as pd\n",
    "\n",
    "\n",
    "\n",
    "# Merge the DataFrames on 'Geography', using full outer join to ensure all entries are included\n",
    "merged_df = pd.merge(df_tv_county_counts, df_radio_county_counts, on='Geography', how='outer', suffixes=('_tv', '_radio'))\n",
    "merged_df = pd.merge(merged_df, df_newspaper_county_counts, on='Geography', how='outer')\n",
    "merged_df = pd.merge(merged_df, df_county, on='Geography', how='outer')\n",
    "# If the column names need specific handling or renaming, adjust them accordingly:\n",
    "merged_df.columns = ['Geography', 'count_tv', 'count_radio', 'count_newspaper','county','state']\n",
    "\n",
    "# Replace NaN values with 0 for all count columns\n",
    "final_merged_df = pd.merge(merged_df, df_shapefile_county, left_on='Geography', right_on='AFFGEOID', how='outer')\n",
    "\n",
    "# Replace NaN values with 0 in relevant columns (assuming you only want to fill numerical columns)\n",
    "columns_to_fill = ['count_tv', 'count_radio', 'count_newspaper']\n",
    "for column in columns_to_fill:\n",
    "    if column in final_merged_df.columns:\n",
    "        final_merged_df[column] = final_merged_df[column].fillna(0).astype(int)\n",
    "\n",
    "\n",
    "\n",
    "# save to a CSV file \n",
    "final_merged_df.to_csv('../artifacts/data/cleaned/media_county_counts.csv', index=False)\n"
   ]
  }
 ],
 "metadata": {
  "kernelspec": {
   "display_name": "Python 3",
   "language": "python",
   "name": "python3"
  },
  "language_info": {
   "codemirror_mode": {
    "name": "ipython",
    "version": 3
   },
   "file_extension": ".py",
   "mimetype": "text/x-python",
   "name": "python",
   "nbconvert_exporter": "python",
   "pygments_lexer": "ipython3",
   "version": "3.10.14"
  }
 },
 "nbformat": 4,
 "nbformat_minor": 2
}
