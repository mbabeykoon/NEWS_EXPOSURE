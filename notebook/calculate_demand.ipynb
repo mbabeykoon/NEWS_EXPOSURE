{
 "cells": [
  {
   "cell_type": "code",
   "execution_count": 3,
   "metadata": {},
   "outputs": [],
   "source": [
    "import pandas as pd\n",
    "import geopandas as gpd\n",
    "import numpy as np\n",
    "import warnings\n",
    "\n",
    "# Suppress all warnings\n",
    "warnings.filterwarnings('ignore')"
   ]
  },
  {
   "cell_type": "code",
   "execution_count": 2,
   "metadata": {},
   "outputs": [],
   "source": [
    "df_population = pd.read_csv('../artifacts/data/cleaned/population_groups.csv')\n",
    "df_newsfacts = pd.read_csv('../artifacts/data/cleaned/pew_newsfacts.csv', on_bad_lines='skip')"
   ]
  },
  {
   "cell_type": "code",
   "execution_count": 4,
   "metadata": {},
   "outputs": [],
   "source": [
    "df_population['Pop_High_Less'] = np.ceil(df_population['POP_ESTIMATE_2022'] * ((df_population['Percent_High_Less'] + df_population['Percent_High']) / 100))\n",
    "df_population['Pop_some_Collage'] = np.ceil(df_population['POP_ESTIMATE_2022'] * (df_population['Percent_Some_collage'] / 100))\n",
    "df_population['Pop_Collage_Plus'] = np.ceil(df_population['POP_ESTIMATE_2022'] * (df_population['Percent_Collage_Plus'] / 100))"
   ]
  },
  {
   "cell_type": "code",
   "execution_count": 5,
   "metadata": {},
   "outputs": [],
   "source": [
    "def get_percentage(df, category, column):\n",
    "    percentage_str = df[df['Category'] == category][column].iloc[0]\n",
    "    return float(percentage_str.strip('%')) / 100\n",
    "\n",
    "# List of categories and their corresponding population columns in df_population\n",
    "categories = [\n",
    "    ('High school or less', 'Pop_High_Less'),\n",
    "    ('Some college', 'Pop_some_Collage'),\n",
    "    ('College+', 'Pop_Collage_Plus')\n",
    "]\n",
    "\n",
    "# Media types\n",
    "media_types = ['Television', 'Radio', 'Print', 'Digital devices']\n",
    "\n",
    "# Loop over each category and media type, calculate new columns\n",
    "for category, pop_col in categories:\n",
    "    for media in media_types:\n",
    "        # Get the percentage from df_newsfacts\n",
    "        percentage = get_percentage(df_newsfacts, category, media)\n",
    "        \n",
    "        # Calculate new column in df_population\n",
    "        new_col_name = f\"{media}_{pop_col}\"\n",
    "        df_population[new_col_name] = np.ceil(df_population[pop_col] * percentage).astype(int)"
   ]
  },
  {
   "cell_type": "code",
   "execution_count": 6,
   "metadata": {},
   "outputs": [],
   "source": [
    "for media in media_types:\n",
    "    # Summing up the population columns for each media\n",
    "    df_population[f'{media}_Demand_Pop'] = (\n",
    "        df_population[f'{media}_Pop_High_Less'] +\n",
    "        df_population[f'{media}_Pop_some_Collage'] +\n",
    "        df_population[f'{media}_Pop_Collage_Plus']\n",
    "    )\n",
    "    \n",
    "    # Calculating the percentage of total demand relative to POP_ESTIMATE_2022\n",
    "    df_population[f'{media}_Demand_Percent'] = (\n",
    "        df_population[f'{media}_Demand_Pop'] / df_population['POP_ESTIMATE_2022'] * 100\n",
    "    ).round(2)"
   ]
  },
  {
   "cell_type": "code",
   "execution_count": 7,
   "metadata": {},
   "outputs": [],
   "source": [
    "df_population.to_csv('../artifacts/data/cleaned/media_demand.csv', index=False)"
   ]
  }
 ],
 "metadata": {
  "kernelspec": {
   "display_name": "Python 3",
   "language": "python",
   "name": "python3"
  },
  "language_info": {
   "codemirror_mode": {
    "name": "ipython",
    "version": 3
   },
   "file_extension": ".py",
   "mimetype": "text/x-python",
   "name": "python",
   "nbconvert_exporter": "python",
   "pygments_lexer": "ipython3",
   "version": "3.10.14"
  }
 },
 "nbformat": 4,
 "nbformat_minor": 2
}
