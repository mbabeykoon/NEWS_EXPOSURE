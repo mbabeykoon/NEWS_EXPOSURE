{
 "cells": [
  {
   "cell_type": "markdown",
   "metadata": {},
   "source": [
    "Madusanka Madiligama 4/30/2024"
   ]
  },
  {
   "cell_type": "code",
   "execution_count": 2,
   "metadata": {},
   "outputs": [],
   "source": [
    "import pandas as pd\n",
    "import geopandas as gpd\n",
    "import warnings\n",
    "\n",
    "# Suppress all warnings\n",
    "warnings.filterwarnings('ignore')"
   ]
  },
  {
   "cell_type": "code",
   "execution_count": 4,
   "metadata": {},
   "outputs": [],
   "source": [
    "df_tv = pd.read_csv('../artifacts/data/raw/television.csv', on_bad_lines='skip')\n",
    "df_radio = pd.read_csv('../artifacts/data/raw/radio.csv', on_bad_lines='skip')\n",
    "df_newspaper = pd.read_csv('../artifacts/data/raw/newspaper.csv', on_bad_lines='skip')\n",
    "df_county = pd.read_csv('../artifacts/shapefiles/county.csv')\n",
    "df_shapefile_county = gpd.read_file('../artifacts/shapefiles/cb_2018_us_county_500k.shp')"
   ]
  },
  {
   "cell_type": "code",
   "execution_count": 10,
   "metadata": {},
   "outputs": [
    {
     "data": {
      "text/plain": [
       "370"
      ]
     },
     "execution_count": 10,
     "metadata": {},
     "output_type": "execute_result"
    }
   ],
   "source": [
    "df_radio.duplicated().sum()"
   ]
  },
  {
   "cell_type": "code",
   "execution_count": 11,
   "metadata": {},
   "outputs": [],
   "source": [
    "def add_geography_column(df_media, df_county):\n",
    "    \"\"\"Merge media DataFrame with county DataFrame to add Geography column.\"\"\"\n",
    "    merged_mp_df = df_media.merge(df_county, left_on=['state', 'county_name'], right_on=['state', 'county'])\n",
    "    merged_mp_df = merged_mp_df[df_media.columns.tolist() + ['Geography']]\n",
    "    return merged_mp_df"
   ]
  },
  {
   "cell_type": "code",
   "execution_count": 14,
   "metadata": {},
   "outputs": [],
   "source": [
    "\n",
    "def clean_and_save_media_data(df_media, df_county, file_name, directory_path='../artifacts/data/cleaned/'):\n",
    "    # Add geography column by merging media and county data\n",
    "    \n",
    "\n",
    "    print(len(df_media))\n",
    "\n",
    "    # Replace missing 'state' values with 'mail_addr_state' values\n",
    "    df_media['state'].fillna(df_media['mail_addr_state'], inplace=True)\n",
    "\n",
    "    df_with_geography = add_geography_column(df_media, df_county)\n",
    "\n",
    "    # Drop duplicates\n",
    "    df_with_geography = df_with_geography.drop_duplicates()\n",
    "    print(len(df_with_geography))\n",
    "\n",
    "    # Drop rows where 'state' or 'county_name' is NaN\n",
    "    df_filtered = df_with_geography.dropna(subset=['state', 'county_name'])\n",
    "    print(len(df_with_geography))\n",
    "  \n",
    "    # Save to CSV\n",
    "    output_path = f\"{directory_path}{file_name}\"\n",
    "    df_filtered.to_csv(output_path, index=False)\n",
    "\n",
    "    print(f\"Data saved to {output_path}\")"
   ]
  },
  {
   "cell_type": "code",
   "execution_count": 17,
   "metadata": {},
   "outputs": [
    {
     "name": "stdout",
     "output_type": "stream",
     "text": [
      "45969\n",
      "44117\n",
      "44117\n",
      "Data saved to ../artifacts/data/cleaned/radio.csv\n"
     ]
    }
   ],
   "source": [
    "# clean_and_save_media_data(df_tv, df_county, 'television.csv')\n",
    "# clean_and_save_media_data(df_newspaper, df_county, 'newspaper.csv')\n",
    "clean_and_save_media_data(df_radio, df_county, 'radio.csv')"
   ]
  }
 ],
 "metadata": {
  "kernelspec": {
   "display_name": "Python 3",
   "language": "python",
   "name": "python3"
  },
  "language_info": {
   "codemirror_mode": {
    "name": "ipython",
    "version": 3
   },
   "file_extension": ".py",
   "mimetype": "text/x-python",
   "name": "python",
   "nbconvert_exporter": "python",
   "pygments_lexer": "ipython3",
   "version": "3.10.14"
  }
 },
 "nbformat": 4,
 "nbformat_minor": 2
}
